{
  "nbformat": 4,
  "nbformat_minor": 0,
  "metadata": {
    "colab": {
      "name": "week3_HW",
      "provenance": [],
      "authorship_tag": "ABX9TyOXWwFCOiABbq15Cg2hqk0y",
      "include_colab_link": true
    },
    "kernelspec": {
      "name": "python3",
      "display_name": "Python 3"
    },
    "language_info": {
      "name": "python"
    }
  },
  "cells": [
    {
      "cell_type": "markdown",
      "metadata": {
        "id": "view-in-github",
        "colab_type": "text"
      },
      "source": [
        "<a href=\"https://colab.research.google.com/github/KimHyungkeun/DE_Starterkit_Programmers/blob/week3_hw/week3_HW.ipynb\" target=\"_parent\"><img src=\"https://colab.research.google.com/assets/colab-badge.svg\" alt=\"Open In Colab\"/></a>"
      ]
    },
    {
      "cell_type": "code",
      "execution_count": null,
      "metadata": {
        "id": "p1O9aYOP0p76"
      },
      "outputs": [],
      "source": [
        "# Assignment 2\n",
        "# ts별로 row_number를 매긴 후, 가장 빠른 순서가 먼저오는 테이블 a와 가장 늦은 순서가 먼저오는 테이블 b를 join 시킨다\n",
        "# seq(row_number) 상으로는 가장 먼저오는 순서와 가장 늦게오는 순서가 모두 1이다.\n",
        "# 따라서, WHERE 절에 seq를 1로 설정한 후에 user별 첫 채널과 늦은 채널을 고른다\n",
        "%%sql\n",
        "\n",
        "SELECT DISTINCT a.userid, a.channel as first_channel, b.channel as last_channel\n",
        "FROM\n",
        "(\n",
        "SELECT userid, ts, channel, ROW_NUMBER() OVER (partition by userid order by ts) seq\n",
        "FROM raw_data.user_session_channel usc\n",
        "JOIN raw_data.session_timestamp st ON usc.sessionid = st.sessionid\n",
        ") a \n",
        "JOIN\n",
        "(\n",
        "SELECT userid, ts, channel, ROW_NUMBER() OVER (partition by userid order by ts desc) seq\n",
        "FROM raw_data.user_session_channel usc\n",
        "JOIN raw_data.session_timestamp st ON usc.sessionid = st.sessionid\n",
        ") b ON a.userid = b.userid and a.seq = b.seq\n",
        "WHERE a.seq = 1\n",
        "LIMIT 10;"
      ]
    },
    {
      "cell_type": "code",
      "source": [
        "# Assignment 3\n",
        "# 두 채널 a, b를 sessionid를 기준으로 join 시킨다.\n",
        "# 이때, Gross Revenue가 가장 큰 user를 찾기위해서 refunded가 True인것을 모두 포함한 것들을 찾는다.\n",
        "# NULL은 포함되지 않도록 한다\n",
        "# amount를 내림차순으로 셋팅하여 TOP 10을 가려낸다\n",
        "%%sql\n",
        "\n",
        "SELECT userid, sum(CASE WHEN amount IS NULL THEN 0 ELSE amount END) as sum_amount\n",
        "FROM raw_data.user_session_channel a\n",
        "LEFT OUTER JOIN raw_data.session_transaction b\n",
        "ON a.sessionid = b.sessionid AND refunded IS NOT NULL\n",
        "GROUP BY userid\n",
        "ORDER BY sum_amount DESC\n",
        "LIMIT 10;"
      ],
      "metadata": {
        "id": "oTmDTmPu0wTp"
      },
      "execution_count": null,
      "outputs": []
    },
    {
      "cell_type": "code",
      "source": [
        "# Assignment 4\n",
        "# user_count_table은 해당 홈페이지에 한번이라도 방문이 기록된 유저 종류 수(uniqueUsers)와 방문이 기록된 유저들 중 session_transaction에 한번이라도 영향을 준 유저 종류 수(paidUsers)를 기록한 테이블이다\n",
        "# revenue_count_table은 해당 홈페이지에서 refund를 포함한 모든 수입(grossRevenue)와 refund가 되지 않은 수입(netRevenue)를 기록한 테이블이다\n",
        "# 두 테이블을 JOIN 시킨다\n",
        "%%sql\n",
        "\n",
        "CREATE TABLE hyungkeun_kim95.week3_assignment \n",
        "AS SELECT * FROM\n",
        "(\n",
        "  WITH user_count_table AS \n",
        "  (   SELECT A.year_month, A.channel, uniqueUsers, paidUsers\n",
        "      FROM\n",
        "      (\n",
        "        (SELECT to_char(ts, 'YYYY-MM') as year_month, channel, COUNT(DISTINCT userid) as uniqueUsers\n",
        "        FROM raw_data.session_timestamp a\n",
        "        JOIN raw_data.user_session_channel b ON a.sessionid = b.sessionid \n",
        "        GROUP BY year_month, channel) A\n",
        "        JOIN\n",
        "        (SELECT to_char(ts, 'YYYY-MM') as year_month, channel, COUNT(DISTINCT userid) as paidUsers\n",
        "        FROM raw_data.session_timestamp a\n",
        "        JOIN raw_data.user_session_channel b ON a.sessionid = b.sessionid \n",
        "        LEFT OUTER JOIN raw_data.session_transaction c ON b.sessionid = c.sessionid\n",
        "        WHERE c.sessionid IS NOT NULL\n",
        "        GROUP BY year_month, channel) B\n",
        "        ON A.year_month = B.year_month AND A.channel = B.channel \n",
        "      )\n",
        "  ), revenue_count_table AS \n",
        "  (   SELECT C.year_month, C.channel, grossRevenue, netRevenue \n",
        "      FROM\n",
        "      (\n",
        "        (SELECT to_char(ts, 'YYYY-MM') as year_month, channel, sum(CASE WHEN amount IS NULL THEN 0 ELSE amount END) as grossRevenue\n",
        "        FROM raw_data.session_timestamp a\n",
        "        JOIN raw_data.user_session_channel b ON a.sessionid = b.sessionid \n",
        "        LEFT OUTER JOIN raw_data.session_transaction c ON b.sessionid = c.sessionid AND refunded IS NOT NULL\n",
        "        GROUP BY year_month, channel) C\n",
        "        JOIN\n",
        "        (SELECT to_char(ts, 'YYYY-MM') as year_month, channel, sum(CASE WHEN amount IS NULL THEN 0 ELSE amount END) as netRevenue\n",
        "        FROM raw_data.session_timestamp a\n",
        "        JOIN raw_data.user_session_channel b ON a.sessionid = b.sessionid \n",
        "        LEFT OUTER JOIN raw_data.session_transaction c ON b.sessionid = c.sessionid AND refunded IS NOT NULL AND refunded IS FALSE\n",
        "        GROUP BY year_month, channel) D\n",
        "        ON C.year_month = D.year_month AND C.channel = D.channel\n",
        "      )\n",
        "  ) \n",
        "  SELECT E.year_month, E.channel, uniqueUsers, paidUsers, CAST(paidUsers AS DOUBLE PRECISION) / NULLIF(uniqueUsers, 0) as ConversionRate, grossRevenue, netRevenue\n",
        "  FROM user_count_table E JOIN revenue_count_table F ON E.year_month = F.year_month AND E.channel = F.channel\n",
        ") "
      ],
      "metadata": {
        "id": "HmdarpRvoNid"
      },
      "execution_count": null,
      "outputs": []
    }
  ]
}