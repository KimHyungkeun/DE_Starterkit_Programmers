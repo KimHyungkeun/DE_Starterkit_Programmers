{
  "nbformat": 4,
  "nbformat_minor": 0,
  "metadata": {
    "colab": {
      "name": "week3_HW",
      "provenance": [],
      "authorship_tag": "ABX9TyNzbm6I2JHbmjUOSyIvbBqC",
      "include_colab_link": true
    },
    "kernelspec": {
      "name": "python3",
      "display_name": "Python 3"
    },
    "language_info": {
      "name": "python"
    }
  },
  "cells": [
    {
      "cell_type": "markdown",
      "metadata": {
        "id": "view-in-github",
        "colab_type": "text"
      },
      "source": [
        "<a href=\"https://colab.research.google.com/github/KimHyungkeun/DE_Starterkit_Programmers/blob/week3_hw/week3_HW.ipynb\" target=\"_parent\"><img src=\"https://colab.research.google.com/assets/colab-badge.svg\" alt=\"Open In Colab\"/></a>"
      ]
    },
    {
      "cell_type": "code",
      "execution_count": null,
      "metadata": {
        "id": "p1O9aYOP0p76"
      },
      "outputs": [],
      "source": [
        "# Assignment 2\n",
        "# ts별로 row_number를 매긴 후, 가장 빠른 순서가 먼저오는 테이블 a와 가장 늦은 순서가 먼저오는 테이블 b를 join 시킨다\n",
        "# seq(row_number) 상으로는 가장 먼저오는 순서와 가장 늦게오는 순서가 모두 1이다.\n",
        "# 따라서, WHERE 절에 seq를 1로 설정한 후에 user별 첫 채널과 늦은 채널을 고른다\n",
        "%%sql\n",
        "\n",
        "SELECT DISTINCT a.userid, a.channel as first_channel, b.channel as last_channel\n",
        "FROM\n",
        "(\n",
        "SELECT userid, ts, channel, ROW_NUMBER() OVER (partition by userid order by ts) seq\n",
        "FROM raw_data.user_session_channel usc\n",
        "JOIN raw_data.session_timestamp st ON usc.sessionid = st.sessionid\n",
        ") a \n",
        "JOIN\n",
        "(\n",
        "SELECT userid, ts, channel, ROW_NUMBER() OVER (partition by userid order by ts desc) seq\n",
        "FROM raw_data.user_session_channel usc\n",
        "JOIN raw_data.session_timestamp st ON usc.sessionid = st.sessionid\n",
        ") b ON a.userid = b.userid and a.seq = b.seq\n",
        "WHERE a.seq = 1\n",
        "LIMIT 10;"
      ]
    },
    {
      "cell_type": "code",
      "source": [
        "# Assignment 3\n",
        "# 두 채널 a, b를 sessionid를 기준으로 join 시킨다.\n",
        "# 이때, Gross Revenue가 가장 큰 user를 찾기위해서 refunded가 True인 데이터들을 필터링 시킨다.\n",
        "# amount를 내림차순으로 셋팅하여 TOP 10을 가려낸다\n",
        "%%sql\n",
        "\n",
        "SELECT userid, amount\n",
        "FROM raw_data.user_session_channel a\n",
        "JOIN raw_data.session_transaction b\n",
        "ON a.sessionid = b.sessionid AND refunded is True\n",
        "ORDER BY amount DESC\n",
        "LIMIT 10;"
      ],
      "metadata": {
        "id": "oTmDTmPu0wTp"
      },
      "execution_count": null,
      "outputs": []
    }
  ]
}