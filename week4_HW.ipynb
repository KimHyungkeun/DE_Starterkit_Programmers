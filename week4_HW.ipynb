{
  "nbformat": 4,
  "nbformat_minor": 0,
  "metadata": {
    "colab": {
      "name": "week4_HW",
      "provenance": [],
      "authorship_tag": "ABX9TyOgIrCcj8+fcU4CBBTWdqm6",
      "include_colab_link": true
    },
    "kernelspec": {
      "name": "python3",
      "display_name": "Python 3"
    },
    "language_info": {
      "name": "python"
    }
  },
  "cells": [
    {
      "cell_type": "markdown",
      "metadata": {
        "id": "view-in-github",
        "colab_type": "text"
      },
      "source": [
        "<a href=\"https://colab.research.google.com/github/KimHyungkeun/DE_Starterkit_Programmers/blob/week4_hw/week4_HW.ipynb\" target=\"_parent\"><img src=\"https://colab.research.google.com/assets/colab-badge.svg\" alt=\"Open In Colab\"/></a>"
      ]
    },
    {
      "cell_type": "code",
      "execution_count": null,
      "metadata": {
        "id": "Inhb2cDDTgOW"
      },
      "outputs": [],
      "source": [
        "# Before\n",
        "def load(lines):\n",
        "    # BEGIN과 END를 사용해서 SQL 결과를 트랜잭션으로 만들어주는 것이 좋음\n",
        "    # BEGIN;DELETE FROM (본인의스키마).name_gender;INSERT INTO TABLE VALUES ('KEEYONG', 'MALE');....;END;\n",
        "    cur = get_Redshift_connection()\n",
        "    for r in lines:\n",
        "        if r != '':\n",
        "            (name, gender) = r.split(\",\")\n",
        "            print(name, \"-\", gender)\n",
        "            sql = \"INSERT INTO hyungkeun_kim95.name_gender VALUES ('{n}', '{g}')\".format(n=name, g=gender)\n",
        "            print(sql)\n",
        "            cur.execute(sql)"
      ]
    },
    {
      "cell_type": "code",
      "source": [
        "def load(lines):\n",
        "    # BEGIN과 END를 사용해서 SQL 결과를 트랜잭션으로 만들어주는 것이 좋음\n",
        "    cur = get_Redshift_connection()\n",
        "    del_sql = \"DELETE FROM hyungkeun_kim95.name_gender\"\n",
        "    cur.execute(del_sql)\n",
        "    n = len(lines)\n",
        "    for i in range(n):\n",
        "        if lines[i] != '' :\n",
        "            if i == 0 : # 가장 첫번째는 컬럼헤더이름이므로 생략한다\n",
        "              continue\n",
        "            (name, gender) = lines[i].split(\",\")\n",
        "            print(name, \"-\", gender)\n",
        "            sql = \"\"\"\n",
        "            BEGIN;     \n",
        "            INSERT INTO hyungkeun_kim95.name_gender VALUES ('{n}', '{g}');\n",
        "            END;\"\"\".format(n=name, g=gender)\n",
        "            print(sql)\n",
        "            cur.execute(sql)"
      ],
      "metadata": {
        "id": "CevyFb87Tr2L"
      },
      "execution_count": null,
      "outputs": []
    }
  ]
}