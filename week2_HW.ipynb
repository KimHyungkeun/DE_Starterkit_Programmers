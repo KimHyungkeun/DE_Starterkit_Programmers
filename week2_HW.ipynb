{
  "nbformat": 4,
  "nbformat_minor": 0,
  "metadata": {
    "colab": {
      "name": "week2_HW",
      "provenance": [],
      "collapsed_sections": [],
      "authorship_tag": "ABX9TyO0mp89a5HrklMTQKCscE4g",
      "include_colab_link": true
    },
    "kernelspec": {
      "name": "python3",
      "display_name": "Python 3"
    },
    "language_info": {
      "name": "python"
    }
  },
  "cells": [
    {
      "cell_type": "markdown",
      "metadata": {
        "id": "view-in-github",
        "colab_type": "text"
      },
      "source": [
        "<a href=\"https://colab.research.google.com/github/KimHyungkeun/DE_Starterkit_Programmers/blob/week2_hw/week2_HW.ipynb\" target=\"_parent\"><img src=\"https://colab.research.google.com/assets/colab-badge.svg\" alt=\"Open In Colab\"/></a>"
      ]
    },
    {
      "cell_type": "code",
      "source": [
        "# 제출 코드\n",
        "# sessionid를 join조건으로 사용하여 inner join 한 후에, timestamp를 월별로 정리한다.\n",
        "# 월별로 나타난 user 종류를 중복없이 고유하게 분류한 후에(distinct), 월별로 나타난 user수를 모두 집계한다(count) \n",
        "%%sql\n",
        "\n",
        "SELECT ts, COUNT(DISTINCT userid)\n",
        "FROM (\n",
        "SELECT userid, to_char(ts, 'YYYY-MM') as ts\n",
        "FROM raw_data.user_session_channel JOIN raw_data.session_timestamp USING(sessionid)\n",
        ") \n",
        "group by ts\n",
        "order by ts;"
      ],
      "metadata": {
        "id": "1Ki5-sN0YbE9"
      },
      "execution_count": null,
      "outputs": []
    }
  ]
}